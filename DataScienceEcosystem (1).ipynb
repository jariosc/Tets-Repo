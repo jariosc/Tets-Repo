{
 "cells": [
  {
   "cell_type": "markdown",
   "id": "1e2ec550-c28d-4de2-8219-4fbd14ae1b4c",
   "metadata": {},
   "source": [
    "# Data Science Tools and Ecosystem"
   ]
  },
  {
   "cell_type": "markdown",
   "id": "73502dad-38be-4db3-9bd1-c5e1db72c28c",
   "metadata": {},
   "source": [
    "##### This notebook summarizes the data science tools and ecosystems"
   ]
  },
  {
   "cell_type": "markdown",
   "id": "beb13d4b-732a-40a6-834e-f18067c874b3",
   "metadata": {},
   "source": [
    "**Objectives:**\n",
    "* Data Science Tools\n",
    "* libraries commonly used by data scientists \n",
    "* popular languages used by data scientists"
   ]
  },
  {
   "cell_type": "markdown",
   "id": "c4712dba-28a2-44d1-a926-5d11b0f8e682",
   "metadata": {},
   "source": [
    "##### Some of the popular languages used by data scientists are:\n",
    "1. Python\n",
    "2. R studio\n",
    "3. SQL"
   ]
  },
  {
   "cell_type": "markdown",
   "id": "7002fa3a-5028-4a26-beab-4964c73cc73b",
   "metadata": {},
   "source": [
    "##### Some of the libraries commonly used by data scientists include:\n",
    " 1. Pandas\n",
    " 2. Numpy\n",
    " 3. Matplotlib"
   ]
  },
  {
   "cell_type": "markdown",
   "id": "70e914d7-e1f6-4053-b76e-850bcb27cff5",
   "metadata": {},
   "source": [
    "##### Data Science Tools:\n",
    " 1. Jupyter\n",
    " 2. Apache Spark\n",
    " 3. R"
   ]
  },
  {
   "cell_type": "markdown",
   "id": "937d0e78-ea59-4cf4-84ab-bcc78d73a9ce",
   "metadata": {},
   "source": [
    "### Below are some examples of evaluating arithmetic expressions in Python"
   ]
  },
  {
   "cell_type": "code",
   "execution_count": 2,
   "id": "cf81d1b2-2a4a-4b19-95e1-432e92d61138",
   "metadata": {},
   "outputs": [
    {
     "data": {
      "text/plain": [
       "17"
      ]
     },
     "execution_count": 2,
     "metadata": {},
     "output_type": "execute_result"
    }
   ],
   "source": [
    "#This is a simple arithmetic expression for multiplying and then adding integers\n",
    "(3*4)+5"
   ]
  },
  {
   "cell_type": "code",
   "execution_count": 3,
   "id": "a0312634-db88-4877-a4e1-541e826a0af7",
   "metadata": {},
   "outputs": [
    {
     "data": {
      "text/plain": [
       "3.3333333333333335"
      ]
     },
     "execution_count": 3,
     "metadata": {},
     "output_type": "execute_result"
    }
   ],
   "source": [
    "#This will convert 200 minutes to hours by dividing by 60\n",
    "200/60"
   ]
  },
  {
   "cell_type": "markdown",
   "id": "515a63f6-0551-42a3-a290-3288a7a04e57",
   "metadata": {},
   "source": [
    "## Author\n",
    "Jose Rios"
   ]
  },
  {
   "cell_type": "code",
   "execution_count": null,
   "id": "e1520235-8722-457d-86fd-a309bca98850",
   "metadata": {},
   "outputs": [],
   "source": []
  }
 ],
 "metadata": {
  "kernelspec": {
   "display_name": "Python 3 (ipykernel)",
   "language": "python",
   "name": "python3"
  },
  "language_info": {
   "codemirror_mode": {
    "name": "ipython",
    "version": 3
   },
   "file_extension": ".py",
   "mimetype": "text/x-python",
   "name": "python",
   "nbconvert_exporter": "python",
   "pygments_lexer": "ipython3",
   "version": "3.12.8"
  }
 },
 "nbformat": 4,
 "nbformat_minor": 5
}
